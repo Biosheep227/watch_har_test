{
 "cells": [
  {
   "cell_type": "code",
   "execution_count": 15,
   "metadata": {},
   "outputs": [
    {
     "name": "stdout",
     "output_type": "stream",
     "text": [
      "Looking in indexes: https://pypi.org/simple/\n",
      "Requirement already satisfied: pyserial in /Users/zehaokou/miniconda3/envs/llama/lib/python3.10/site-packages (3.5)\n",
      "Looking in indexes: https://pypi.org/simple/\n",
      "Requirement already satisfied: pygatt in /Users/zehaokou/miniconda3/envs/llama/lib/python3.10/site-packages (5.0.0)\n",
      "Requirement already satisfied: pyserial in /Users/zehaokou/miniconda3/envs/llama/lib/python3.10/site-packages (from pygatt) (3.5)\n",
      "Requirement already satisfied: enum-compat in /Users/zehaokou/miniconda3/envs/llama/lib/python3.10/site-packages (from pygatt) (0.0.3)\n"
     ]
    }
   ],
   "source": [
    "!pip install pyserial\n",
    "!pip install pygatt"
   ]
  },
  {
   "cell_type": "code",
   "execution_count": 18,
   "metadata": {},
   "outputs": [
    {
     "name": "stdout",
     "output_type": "stream",
     "text": [
      "\n",
      "欢迎使用维特智能示例程序    Welcome to the Wit-Motoin sample program\n",
      "\n",
      "初始化设备模型\n",
      "设备关闭了\n",
      "启动Data-Received-Thread\n",
      " acc：0.0059,-0.3345,0.9565  gyro:0.0,0.0,0.0  angle:-19.286,-0.319,17.249\n"
     ]
    },
    {
     "data": {
      "text/plain": [
       "'\\n    startRecord()                                       # 开始记录数据    Start recording data\\n    input()\\n    device.closeDevice()\\n    endRecord()                                         #结束记录数据 End record data\\n\\n'"
      ]
     },
     "execution_count": 18,
     "metadata": {},
     "output_type": "execute_result"
    },
    {
     "name": "stdout",
     "output_type": "stream",
     "text": [
      " acc：0.0059,-0.3345,0.9565  gyro:0.0,0.0,0.0  angle:-19.286,-0.319,17.249\n"
     ]
    }
   ],
   "source": [
    "# coding:UTF-8\n",
    "\"\"\"\n",
    "    测试文件\n",
    "    Test file\n",
    "\"\"\"\n",
    "import time\n",
    "import datetime\n",
    "import platform\n",
    "import struct\n",
    "import lib.device_model as deviceModel\n",
    "from lib.data_processor.roles.jy901s_dataProcessor import JY901SDataProcessor\n",
    "from lib.protocol_resolver.roles.wit_protocol_resolver import WitProtocolResolver\n",
    "import pygatt\n",
    "welcome = \"\"\"\n",
    "欢迎使用维特智能示例程序    Welcome to the Wit-Motoin sample program\n",
    "\"\"\"\n",
    "_writeF = None                  #写文件  Write file\n",
    "_IsWriteF =False                #写文件标识    Write file identification\n",
    "\n",
    "\n",
    "def setConfig(device):\n",
    "    \"\"\"\n",
    "    设置配置信息示例    Example setting configuration information\n",
    "    :param device: 设备模型 Device model\n",
    "    :return:\n",
    "    \"\"\"\n",
    "    device.writeReg(0x52)       # 设置Z轴角度归零\n",
    "    time.sleep(0.1)                # 休眠100毫秒    Sleep 100ms\n",
    "    device.writeReg(0x66)       # 设置安装方向:垂直\n",
    "    time.sleep(0.1)                # 休眠100毫秒    Sleep 100ms\n",
    "    device.writeReg(0x65)       # 设置安装方向:水平\n",
    "    time.sleep(0.1)                # 休眠100毫秒    Sleep 100ms\n",
    "    device.writeReg(0x63)  # 设置波特率:115200  设置后，等待三秒，数据是不会回传回来的，需要去切换下面对应的波特率，重新运行程序\n",
    "    time.sleep(0.1)  # 休眠100毫秒    Sleep 100ms\n",
    "    device.writeReg(0x64)  # 设置波特率:9600    设置后，等待三秒，数据是不会回传回来的，需要去切换下面对应的波特率，重新运行程序\n",
    "    time.sleep(0.1)  # 休眠100毫秒    Sleep 100ms\n",
    "def AccelerationCalibration(device):\n",
    "    \"\"\"\n",
    "    加计校准    Acceleration calibration\n",
    "    :param device: 设备模型 Device model\n",
    "    :return:\n",
    "    \"\"\"\n",
    "    device.AccelerationCalibration()                 # Acceleration calibration\n",
    "    print(\"加计校准结束\")\n",
    "\n",
    "\n",
    "def onUpdate(deviceModel):\n",
    "    \"\"\"\n",
    "    数据更新事件  Data update event\n",
    "    :param deviceModel: 设备模型    Device model\n",
    "    :return:\n",
    "    \"\"\"\n",
    "\n",
    "    print(\n",
    "        #   \" temp:\" + str(deviceModel.getDeviceData(\"temperature\"))\n",
    "         \" acc：\" + str(deviceModel.getDeviceData(\"accX\")) +\",\"+  str(deviceModel.getDeviceData(\"accY\")) +\",\"+ str(deviceModel.getDeviceData(\"accZ\"))\n",
    "         ,  \" gyro:\" + str(deviceModel.getDeviceData(\"gyroX\")) +\",\"+ str(deviceModel.getDeviceData(\"gyroY\")) +\",\"+ str(deviceModel.getDeviceData(\"gyroZ\"))\n",
    "         , \" angle:\" + str(deviceModel.getDeviceData(\"angleX\")) +\",\"+ str(deviceModel.getDeviceData(\"angleY\")) +\",\"+ str(deviceModel.getDeviceData(\"angleZ\"))\n",
    "\n",
    "          )\n",
    "    time.sleep(5)  # 休眠5秒    \n",
    "\n",
    "\n",
    "    if (_IsWriteF):    #记录数据    Record data\n",
    "        Tempstr = \" \"\n",
    "        Tempstr += \"\\t\"+str(deviceModel.getDeviceData(\"accX\")) + \"\\t\"+str(deviceModel.getDeviceData(\"accY\"))+\"\\t\"+ str(deviceModel.getDeviceData(\"accZ\"))\n",
    "        Tempstr += \"\\t\" + str(deviceModel.getDeviceData(\"gyroX\")) +\"\\t\"+ str(deviceModel.getDeviceData(\"gyroY\")) +\"\\t\"+ str(deviceModel.getDeviceData(\"gyroZ\"))\n",
    "        Tempstr += \"\\t\" + str(deviceModel.getDeviceData(\"angleX\")) +\"\\t\" + str(deviceModel.getDeviceData(\"angleY\")) +\"\\t\"+ str(deviceModel.getDeviceData(\"angleZ\"))\n",
    "        Tempstr += \"\\t\" + str(deviceModel.getDeviceData(\"temperature\"))\n",
    "        Tempstr += \"\\r\\n\"\n",
    "        _writeF.write(Tempstr)\n",
    "        \n",
    "\n",
    "def startRecord():\n",
    "    \"\"\"\n",
    "    开始记录数据  Start recording data\n",
    "    :return:\n",
    "    \"\"\"\n",
    "    global _writeF\n",
    "    global _IsWriteF\n",
    "    _writeF = open(str(datetime.datetime.now().strftime('%Y%m%d%H%M%S')) + \".txt\", \"w\")    #新建一个文件\n",
    "    _IsWriteF = True                                                                        #标记写入标识\n",
    "    Tempstr = \" \"\n",
    "    Tempstr +=  \"\\tax(g)\\tay(g)\\taz(g)\"\n",
    "    Tempstr += \"\\twx(deg/s)\\twy(deg/s)\\twz(deg/s)\"\n",
    "    Tempstr += \"\\tAngleX(deg)\\tAngleY(deg)\\tAngleZ(deg)\"\n",
    "    Tempstr += \"\\tT(°)\"\n",
    "    Tempstr += \"\\r\\n\"\n",
    "    _writeF.write(Tempstr)\n",
    "    print(\"开始记录数据\")\n",
    "\n",
    "def endRecord():\n",
    "    \"\"\"\n",
    "    结束记录数据  End record data\n",
    "    :return:\n",
    "    \"\"\"\n",
    "    global _writeF\n",
    "    global _IsWriteF\n",
    "    _IsWriteF = False             # 标记不可写入标识    Tag cannot write the identity\n",
    "    _writeF.close()               #关闭文件 Close file\n",
    "    print(\"结束记录数据\")\n",
    "\n",
    "if __name__ == '__main__':\n",
    "\n",
    "    print(welcome)\n",
    "    \"\"\"\n",
    "    初始化一个设备模型   Initialize a device model\n",
    "    \"\"\"\n",
    "    device = deviceModel.DeviceModel(\n",
    "        \"我的JY901\",\n",
    "        WitProtocolResolver(),\n",
    "        JY901SDataProcessor(),\n",
    "        \"51_0\"\n",
    "    )\n",
    "\n",
    "    if (platform.system().lower() == 'linux'):\n",
    "        device.serialConfig.portName = \"/dev/cu.usbserial-1140\"   #设置串口   Set serial port\n",
    "    else:\n",
    "     device.serialConfig.portName = \"/dev/cu.usbserial-1140\"          #设置串口   Set serial port\n",
    "    device.serialConfig.baud = 115200                    #设置波特率  Set baud rate\n",
    "    device.openDevice()                                 #打开串口   Open serial port\n",
    "   # device.AccelerationCalibration()  # Acceleration calibration\n",
    "   # print(\"加计校准结束\")\n",
    "   # device.writeReg(0x52)     #设置z轴角度归零\n",
    "   # device.writeReg(0x65)  # 设置安装方向:水平\n",
    "   # device.writeReg(0x66)  # 设置安装方向:垂直\n",
    "   # device.writeReg(0x63)  # 设置波特率:115200\n",
    "   # device.writeReg(0x64)  # 设置波特率:9600\n",
    "    device.dataProcessor.onVarChanged.append(onUpdate)  #数据更新事件 Data update event\n",
    "\n",
    "'''\n",
    "    startRecord()                                       # 开始记录数据    Start recording data\n",
    "    input()\n",
    "    device.closeDevice()\n",
    "    endRecord()                                         #结束记录数据 End record data\n",
    "\n",
    "'''\n"
   ]
  },
  {
   "cell_type": "code",
   "execution_count": 6,
   "metadata": {},
   "outputs": [],
   "source": [
    "# 00:0C:BF:0B:68:2F"
   ]
  },
  {
   "cell_type": "code",
   "execution_count": 8,
   "metadata": {},
   "outputs": [
    {
     "name": "stdout",
     "output_type": "stream",
     "text": [
      "Failed to connect to the BLE device: The command was not found or was not executable: gatttool.\n"
     ]
    },
    {
     "name": "stderr",
     "output_type": "stream",
     "text": [
      "sudo: a terminal is required to read the password; either use the -S option to read from standard input or configure an askpass helper\n",
      "sudo: a password is required\n",
      "sudo: a terminal is required to read the password; either use the -S option to read from standard input or configure an askpass helper\n",
      "sudo: a password is required\n"
     ]
    }
   ],
   "source": [
    "ble_address = \"00:0C:BF:0B:68:2F\"\n",
    "\n",
    "def connect_ble_device(address):\n",
    "    adapter = pygatt.GATTToolBackend()  # You can change this to BGAPIBackend() if on Windows with a compatible adapter\n",
    "    try:\n",
    "        adapter.start()\n",
    "        device = adapter.connect(address)\n",
    "        return device\n",
    "    except Exception as e:\n",
    "        print(\"Failed to connect to the BLE device:\", e)\n",
    "    # finally:\n",
    "    #     adapter.stop()\n",
    "\n",
    "ble_device = connect_ble_device(ble_address)"
   ]
  },
  {
   "cell_type": "code",
   "execution_count": null,
   "metadata": {},
   "outputs": [],
   "source": [
    "def pytest(address=DEVICE_ADDRESS, type=pygatt.BLEAddressType.public):\n",
    "    try:\n",
    "        adapter = pygatt.BGAPIBackend()\n",
    "        adapter.start()\n",
    "\n",
    "        print \"===== adapter.scan() =====\"\n",
    "        devices = adapter.scan()\n",
    "        for dev in devices:\n",
    "            # print dev\n",
    "            print \"address: %s, name: %s \" % (dev['address'], dev['name'])\n",
    "\n",
    "        print \"===== adapter.connect() =====\"\n",
    "        device = adapter.connect(address, address_type=type)\n",
    "        print \"address: \" + str(device._address)\n",
    "        print \"handle : \" + str(device._handle)\n",
    "        print \"rssi   : \" + str(device.get_rssi())\n",
    "\n",
    "        print \"====== device.discover_characteristics() =====\"\n",
    "        for uuid in device.discover_characteristics().keys():\n",
    "            try:\n",
    "                print(\"Read UUID %s (handle %d): %s\" %\n",
    "                      (uuid, device.get_handle(uuid), binascii.hexlify(device.char_read(uuid))))\n",
    "            except:\n",
    "                print(\"Read UUID %s (handle %d): %s\" %\n",
    "                      (uuid, device.get_handle(uuid), \"!deny!\"))\n",
    "\n",
    "        print \"====== device.char_read() / device.char_read_handle() =====\"\n",
    "        print \"2a00: \" + device.char_read(\"00002a00-0000-1000-8000-00805f9b34fb\")\n",
    "        print \"2a00: \" + device.char_read_handle(3)\n",
    "\n",
    "        print \"====== device.subscribe() =====\"\n",
    "        device.subscribe(\"e7add780-b042-4876-aae1-112855353cc1\",\n",
    "                         callback=indication_callback, indication=True)\n",
    "        # device.receive_notification(8, \"test\")\n",
    "\n",
    "        print \"====== device.char_write_handle() =====\"\n",
    "        in_buf = map(ord, \"hello world, hello BLE!!!\")\n",
    "        # send via uuid & handle, maximum is 20 bytes\n",
    "        device.char_write(\"e7add780-b042-4876-aae1-112855353cc1\", in_buf[:20])\n",
    "        device.char_write_handle(0x08, in_buf[20:])\n",
    "\n",
    "        while (True):\n",
    "            time.sleep(0.1)\n",
    "    finally:\n",
    "        adapter.stop()\n"
   ]
  }
 ],
 "metadata": {
  "kernelspec": {
   "display_name": "llama",
   "language": "python",
   "name": "python3"
  },
  "language_info": {
   "codemirror_mode": {
    "name": "ipython",
    "version": 3
   },
   "file_extension": ".py",
   "mimetype": "text/x-python",
   "name": "python",
   "nbconvert_exporter": "python",
   "pygments_lexer": "ipython3",
   "version": "3.10.13"
  }
 },
 "nbformat": 4,
 "nbformat_minor": 2
}
